{
 "cells": [
  {
   "cell_type": "code",
   "execution_count": 7,
   "id": "f9492b0c",
   "metadata": {},
   "outputs": [
    {
     "name": "stdout",
     "output_type": "stream",
     "text": [
      "0.058823529411764705\n",
      "0.4271356783919598\n",
      "0.5409836065573771\n",
      "0.29292929292929293\n",
      "0.0\n",
      "0.3964232488822653\n",
      "0.11656703672075149\n",
      "0.16666666666666663\n"
     ]
    }
   ],
   "source": [
    "from pandas import read_csv\n",
    "from numpy import set_printoptions\n",
    "from sklearn.preprocessing import MinMaxScaler\n",
    "names = ['preg','plas','pres','skin','test','mass','pedi','age','class']\n",
    "dataframe = read_csv('pima-indians-diabetes.csv',names=names)\n",
    "array = dataframe.values\n",
    "X = array[:,0:8]\n",
    "Y = array[:,8]\n",
    "scaler = MinMaxScaler(feature_range=(0,1))\n",
    "rescaledX = scaler.fit_transform(X)\n",
    "set_printoptions(precision=3)\n",
    "for i in rescaledX[0:5,:][1]:\n",
    "    print(i)"
   ]
  },
  {
   "cell_type": "code",
   "execution_count": 6,
   "id": "3c85484d",
   "metadata": {},
   "outputs": [
    {
     "name": "stdout",
     "output_type": "stream",
     "text": [
      "1.0\n",
      "85.0\n",
      "66.0\n",
      "29.0\n",
      "0.0\n",
      "26.6\n",
      "0.351\n",
      "31.0\n"
     ]
    }
   ],
   "source": [
    "for i in X[0:5,:][1]:\n",
    "    print(i)"
   ]
  },
  {
   "cell_type": "code",
   "execution_count": 12,
   "id": "60dc196f",
   "metadata": {},
   "outputs": [
    {
     "name": "stdout",
     "output_type": "stream",
     "text": [
      "(768, 9)\n",
      "(768, 8)\n",
      "(768,)\n"
     ]
    }
   ],
   "source": [
    "print(array.shape)\n",
    "print(X.shape)\n",
    "print(Y.shape)"
   ]
  },
  {
   "cell_type": "code",
   "execution_count": 22,
   "id": "3cffb5cf",
   "metadata": {},
   "outputs": [
    {
     "name": "stdout",
     "output_type": "stream",
     "text": [
      "3.141506\n"
     ]
    }
   ],
   "source": [
    "import math\n",
    "import random\n",
    "N=100000000\n",
    "c=0\n",
    "for i in range(N):\n",
    "    x= random.random()\n",
    "    y= random.random()\n",
    "    if math.sqrt(x*x + y*y ) < 1:\n",
    "        c += 1\n",
    "print(4*c/N)\n",
    "\n"
   ]
  }
 ],
 "metadata": {
  "kernelspec": {
   "display_name": "base1",
   "language": "python",
   "name": "python3"
  },
  "language_info": {
   "codemirror_mode": {
    "name": "ipython",
    "version": 3
   },
   "file_extension": ".py",
   "mimetype": "text/x-python",
   "name": "python",
   "nbconvert_exporter": "python",
   "pygments_lexer": "ipython3",
   "version": "3.8.15 (default, Nov 24 2022, 14:38:14) [MSC v.1916 64 bit (AMD64)]"
  },
  "vscode": {
   "interpreter": {
    "hash": "9a408e1753b5c2b6ba7a973dc5b248fe58e860775b257382c6b17209388555c5"
   }
  }
 },
 "nbformat": 4,
 "nbformat_minor": 5
}
